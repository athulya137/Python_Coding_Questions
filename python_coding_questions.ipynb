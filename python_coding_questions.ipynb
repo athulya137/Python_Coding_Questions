{
  "nbformat": 4,
  "nbformat_minor": 0,
  "metadata": {
    "colab": {
      "provenance": [],
      "authorship_tag": "ABX9TyOMeHDLVAe1Be0vSTftqxSv",
      "include_colab_link": true
    },
    "kernelspec": {
      "name": "python3",
      "display_name": "Python 3"
    },
    "language_info": {
      "name": "python"
    }
  },
  "cells": [
    {
      "cell_type": "markdown",
      "metadata": {
        "id": "view-in-github",
        "colab_type": "text"
      },
      "source": [
        "<a href=\"https://colab.research.google.com/github/athulya137/Python_Coding_Questions/blob/main/python_coding_questions.ipynb\" target=\"_parent\"><img src=\"https://colab.research.google.com/assets/colab-badge.svg\" alt=\"Open In Colab\"/></a>"
      ]
    },
    {
      "cell_type": "code",
      "execution_count": 1,
      "metadata": {
        "id": "QeC0M-hqv1jC"
      },
      "outputs": [],
      "source": [
        "#GCD & LCM of two numbers"
      ]
    },
    {
      "cell_type": "code",
      "source": [
        "n=int(input(\"ENTER THE NUMBER:\"))\n",
        "m=int(input(\"ENTER THE NUMBER\"))\n",
        "product=m*n\n",
        "while(n>0):\n",
        "  rem=m%n\n",
        "  m=n\n",
        "  n=rem\n",
        "gcd=m\n",
        "lcm=product//m\n",
        "print(\"GCD is {} and LCM is {}\".format(gcd,lcm))"
      ],
      "metadata": {
        "colab": {
          "base_uri": "https://localhost:8080/"
        },
        "id": "IZPLHwLuw_sh",
        "outputId": "2acdfe30-3325-4d8c-ede8-0fd56f738779"
      },
      "execution_count": 4,
      "outputs": [
        {
          "output_type": "stream",
          "name": "stdout",
          "text": [
            "ENTER THE NUMBER:10\n",
            "ENTER THE NUMBER2\n",
            "GCD is 2 and LCM is 10\n"
          ]
        }
      ]
    },
    {
      "cell_type": "code",
      "source": [
        "# Write code to Check if two strings are Anagram or not"
      ],
      "metadata": {
        "id": "aEtoroDPyD1q"
      },
      "execution_count": 5,
      "outputs": []
    },
    {
      "cell_type": "markdown",
      "source": [],
      "metadata": {
        "id": "AiM3qbhb47BF"
      }
    },
    {
      "cell_type": "code",
      "source": [
        "str1= input(\"Enter the 1st string:\")\n",
        "str2= input(\"Enter the 2nd string\")\n",
        "if len(str1) != len(str2):\n",
        "  print(\"The string not ANAGRAM\")\n",
        "else:\n",
        "  if sorted(str1) == sorted(str2):\n",
        "    print(\"The string is ANAGRAM\")\n",
        "  else:\n",
        "    print(\"The string is not ANAGRAM\")"
      ],
      "metadata": {
        "colab": {
          "base_uri": "https://localhost:8080/"
        },
        "id": "SZ4VVpAL2lZe",
        "outputId": "1448b22c-2b27-41bd-b483-a7d3145f0c08"
      },
      "execution_count": 8,
      "outputs": [
        {
          "output_type": "stream",
          "name": "stdout",
          "text": [
            "Enter the 1st string:abcf\n",
            "Enter the 2nd stringbfac\n",
            "The string is ANAGRAM\n"
          ]
        }
      ]
    },
    {
      "cell_type": "code",
      "source": [
        "# calculate frequency of characters in a string"
      ],
      "metadata": {
        "id": "ju7HVGi55pyD"
      },
      "execution_count": 9,
      "outputs": []
    },
    {
      "cell_type": "code",
      "source": [
        "str= input(\"Enter the string:\")\n",
        "char= input(\"Enter the character in the string:\")\n",
        "count= 0\n",
        "for i in str:\n",
        "  if i.isalpha():\n",
        "    if i==char:\n",
        "      count += 1\n",
        "    else:\n",
        "      continue\n",
        "print(\"The frequency of character {} is {}\".format(char,count))\n"
      ],
      "metadata": {
        "colab": {
          "base_uri": "https://localhost:8080/"
        },
        "id": "PTYPxYfN6XSy",
        "outputId": "5eafddc2-e371-43ee-e689-91a755ebd1eb"
      },
      "execution_count": 27,
      "outputs": [
        {
          "output_type": "stream",
          "name": "stdout",
          "text": [
            "Enter the string:iam athulya\n",
            "Enter the character in the string:a\n",
            "The frequency of character a is 3\n"
          ]
        }
      ]
    },
    {
      "cell_type": "code",
      "source": [],
      "metadata": {
        "id": "9PCvUQWH89Hi"
      },
      "execution_count": null,
      "outputs": []
    }
  ]
}