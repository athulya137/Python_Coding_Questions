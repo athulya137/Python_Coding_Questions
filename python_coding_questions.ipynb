{
  "nbformat": 4,
  "nbformat_minor": 0,
  "metadata": {
    "colab": {
      "provenance": [],
      "authorship_tag": "ABX9TyNEhUE407tgFH1p047QeRbD",
      "include_colab_link": true
    },
    "kernelspec": {
      "name": "python3",
      "display_name": "Python 3"
    },
    "language_info": {
      "name": "python"
    }
  },
  "cells": [
    {
      "cell_type": "markdown",
      "metadata": {
        "id": "view-in-github",
        "colab_type": "text"
      },
      "source": [
        "<a href=\"https://colab.research.google.com/github/athulya137/Python_Coding_Questions/blob/main/python_coding_questions.ipynb\" target=\"_parent\"><img src=\"https://colab.research.google.com/assets/colab-badge.svg\" alt=\"Open In Colab\"/></a>"
      ]
    },
    {
      "cell_type": "code",
      "execution_count": null,
      "metadata": {
        "id": "QeC0M-hqv1jC"
      },
      "outputs": [],
      "source": [
        "#GCD & LCM of two numbers"
      ]
    },
    {
      "cell_type": "code",
      "source": [
        "n=int(input(\"ENTER THE NUMBER:\"))\n",
        "m=int(input(\"ENTER THE NUMBER\"))\n",
        "product=m*n\n",
        "while(n>0):\n",
        "  rem=m%n\n",
        "  m=n\n",
        "  n=rem\n",
        "gcd=m\n",
        "lcm=product//m\n",
        "print(\"GCD is {} and LCM is {}\".format(gcd,lcm))"
      ],
      "metadata": {
        "colab": {
          "base_uri": "https://localhost:8080/"
        },
        "id": "IZPLHwLuw_sh",
        "outputId": "2acdfe30-3325-4d8c-ede8-0fd56f738779"
      },
      "execution_count": null,
      "outputs": [
        {
          "output_type": "stream",
          "name": "stdout",
          "text": [
            "ENTER THE NUMBER:10\n",
            "ENTER THE NUMBER2\n",
            "GCD is 2 and LCM is 10\n"
          ]
        }
      ]
    },
    {
      "cell_type": "code",
      "source": [
        "# Write code to Check if two strings are Anagram or not"
      ],
      "metadata": {
        "id": "aEtoroDPyD1q"
      },
      "execution_count": null,
      "outputs": []
    },
    {
      "cell_type": "markdown",
      "source": [],
      "metadata": {
        "id": "AiM3qbhb47BF"
      }
    },
    {
      "cell_type": "code",
      "source": [
        "str1= input(\"Enter the 1st string:\")\n",
        "str2= input(\"Enter the 2nd string\")\n",
        "if len(str1) != len(str2):\n",
        "  print(\"The string not ANAGRAM\")\n",
        "else:\n",
        "  if sorted(str1) == sorted(str2):\n",
        "    print(\"The string is ANAGRAM\")\n",
        "  else:\n",
        "    print(\"The string is not ANAGRAM\")"
      ],
      "metadata": {
        "colab": {
          "base_uri": "https://localhost:8080/"
        },
        "id": "SZ4VVpAL2lZe",
        "outputId": "1448b22c-2b27-41bd-b483-a7d3145f0c08"
      },
      "execution_count": null,
      "outputs": [
        {
          "output_type": "stream",
          "name": "stdout",
          "text": [
            "Enter the 1st string:abcf\n",
            "Enter the 2nd stringbfac\n",
            "The string is ANAGRAM\n"
          ]
        }
      ]
    },
    {
      "cell_type": "code",
      "source": [
        "# calculate frequency of characters in a string"
      ],
      "metadata": {
        "id": "ju7HVGi55pyD"
      },
      "execution_count": null,
      "outputs": []
    },
    {
      "cell_type": "code",
      "source": [
        "str= input(\"Enter the string:\")\n",
        "char= input(\"Enter the character in the string:\")\n",
        "count= 0\n",
        "for i in str:\n",
        "  if i.isalpha():\n",
        "    if i==char:\n",
        "      count += 1\n",
        "    else:\n",
        "      continue\n",
        "print(\"The frequency of character {} is {}\".format(char,count))\n"
      ],
      "metadata": {
        "colab": {
          "base_uri": "https://localhost:8080/"
        },
        "id": "PTYPxYfN6XSy",
        "outputId": "5eafddc2-e371-43ee-e689-91a755ebd1eb"
      },
      "execution_count": null,
      "outputs": [
        {
          "output_type": "stream",
          "name": "stdout",
          "text": [
            "Enter the string:iam athulya\n",
            "Enter the character in the string:a\n",
            "The frequency of character a is 3\n"
          ]
        }
      ]
    },
    {
      "cell_type": "code",
      "source": [
        "# Find non-repeating characters in a string"
      ],
      "metadata": {
        "id": "9PCvUQWH89Hi"
      },
      "execution_count": 1,
      "outputs": []
    },
    {
      "cell_type": "code",
      "source": [
        "str= input(\"Enter the String\")\n",
        "for i in str:\n",
        "  count=0\n",
        "  for j in str:\n",
        "    if i==j:\n",
        "      count +=1\n",
        "    else:\n",
        "      continue\n",
        "    if count>1:\n",
        "      break\n",
        "\n",
        "  if count==1:\n",
        "    print(i)"
      ],
      "metadata": {
        "colab": {
          "base_uri": "https://localhost:8080/"
        },
        "id": "lG1Hs06U1P1h",
        "outputId": "0315630d-3305-459c-c71c-d06578794172"
      },
      "execution_count": 6,
      "outputs": [
        {
          "output_type": "stream",
          "name": "stdout",
          "text": [
            "Enter the Stringathulya\n",
            "t\n",
            "h\n",
            "u\n",
            "l\n",
            "y\n"
          ]
        }
      ]
    },
    {
      "cell_type": "code",
      "source": [
        "# Write a code to replace a substring in a string"
      ],
      "metadata": {
        "id": "DO-cu6Fy2YdN"
      },
      "execution_count": 8,
      "outputs": []
    },
    {
      "cell_type": "code",
      "source": [
        "string=input(\"Enter the string:\")\n",
        "str1=input(\"Enter the substring which has to be replaced:\")\n",
        "str2=input(\"Enter substring with which str1 has to be replaced :\")\n",
        "string=string.replace(str1,str2)\n",
        "print(string)"
      ],
      "metadata": {
        "colab": {
          "base_uri": "https://localhost:8080/"
        },
        "id": "d45jP_P6_zyF",
        "outputId": "7827be69-d12c-4044-eeae-a0f1392b6e8a"
      },
      "execution_count": 10,
      "outputs": [
        {
          "output_type": "stream",
          "name": "stdout",
          "text": [
            "Enter the string:hello world\n",
            "Enter the substring which has to be replaced:world\n",
            "Enter substring with which str1 has to be replaced :athulya\n",
            "hello athulya\n"
          ]
        }
      ]
    },
    {
      "cell_type": "code",
      "source": [
        "# Write a code to check for the longest palindrome in an array."
      ],
      "metadata": {
        "id": "R2whZcKgAh-5"
      },
      "execution_count": 12,
      "outputs": []
    },
    {
      "cell_type": "code",
      "source": [
        "n=int(input(\"Enter the no of elements in array:\"))\n",
        "for i in range(n):\n",
        "  m=input(\"Enter the lements\")\n",
        "a=[]\n",
        "for i in range(len(m)):\n",
        "  m[i]"
      ],
      "metadata": {
        "id": "iWDG74F4A40O"
      },
      "execution_count": null,
      "outputs": []
    }
  ]
}