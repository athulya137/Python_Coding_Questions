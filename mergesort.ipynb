{
  "nbformat": 4,
  "nbformat_minor": 0,
  "metadata": {
    "colab": {
      "provenance": [],
      "authorship_tag": "ABX9TyNTwno9vUgugJL8TEtPOSQO",
      "include_colab_link": true
    },
    "kernelspec": {
      "name": "python3",
      "display_name": "Python 3"
    },
    "language_info": {
      "name": "python"
    }
  },
  "cells": [
    {
      "cell_type": "markdown",
      "metadata": {
        "id": "view-in-github",
        "colab_type": "text"
      },
      "source": [
        "<a href=\"https://colab.research.google.com/github/athulya137/Python_Coding_Questions/blob/main/mergesort.ipynb\" target=\"_parent\"><img src=\"https://colab.research.google.com/assets/colab-badge.svg\" alt=\"Open In Colab\"/></a>"
      ]
    },
    {
      "cell_type": "code",
      "execution_count": 1,
      "metadata": {
        "id": "ydfR1TddjIz-"
      },
      "outputs": [],
      "source": [
        "def merge_sort(unsorted_array):\n",
        "    if len(unsorted_array) > 1:\n",
        "        mid = len(unsorted_array) // 2  # Finding the mid of the array\n",
        "        left = unsorted_array[:mid]  # Dividing the array elements\n",
        "        right = unsorted_array[mid:]  # into 2 halves\n",
        "\n",
        "        merge_sort(left)\n",
        "        merge_sort(right)\n",
        "\n",
        "        i = j = k = 0\n",
        "\n",
        "        #  data to temp arrays L[] and R[]\n",
        "        while i < len(left) and j < len(right):\n",
        "            if left[i] < right[j]:\n",
        "                unsorted_array[k] = left[i]\n",
        "                i += 1\n",
        "            else:\n",
        "                unsorted_array[k] = right[j]\n",
        "                j += 1\n",
        "            k += 1\n",
        "\n",
        "        # Checking if any element was left\n",
        "        while i < len(left):\n",
        "            unsorted_array[k] = left[i]\n",
        "            i += 1\n",
        "            k += 1\n",
        "\n",
        "        while j < len(right):\n",
        "            unsorted_array[k] = right[j]\n",
        "            j += 1\n",
        "            k += 1\n",
        "\n"
      ]
    },
    {
      "cell_type": "code",
      "source": [
        "unsorted_array=[2,12,55,3,67,8]\n",
        "merge_sort(unsorted_array)"
      ],
      "metadata": {
        "id": "JsMHBcdhjL5Q"
      },
      "execution_count": 8,
      "outputs": []
    },
    {
      "cell_type": "code",
      "source": [
        "print(unsorted_array)"
      ],
      "metadata": {
        "colab": {
          "base_uri": "https://localhost:8080/"
        },
        "id": "LeW18uvbjXJo",
        "outputId": "c08738b2-4e62-416a-b857-227590c66592"
      },
      "execution_count": 11,
      "outputs": [
        {
          "output_type": "stream",
          "name": "stdout",
          "text": [
            "[2, 3, 8, 12, 55, 67]\n"
          ]
        }
      ]
    },
    {
      "cell_type": "code",
      "source": [],
      "metadata": {
        "id": "bpcl_e8ojfTJ"
      },
      "execution_count": null,
      "outputs": []
    }
  ]
}