{
  "nbformat": 4,
  "nbformat_minor": 0,
  "metadata": {
    "colab": {
      "provenance": [],
      "authorship_tag": "ABX9TyNVkpF5ldDInAVmEGjG1Ksi",
      "include_colab_link": true
    },
    "kernelspec": {
      "name": "python3",
      "display_name": "Python 3"
    },
    "language_info": {
      "name": "python"
    }
  },
  "cells": [
    {
      "cell_type": "markdown",
      "metadata": {
        "id": "view-in-github",
        "colab_type": "text"
      },
      "source": [
        "<a href=\"https://colab.research.google.com/github/athulya137/Python_Coding_Questions/blob/main/Untitled9.ipynb\" target=\"_parent\"><img src=\"https://colab.research.google.com/assets/colab-badge.svg\" alt=\"Open In Colab\"/></a>"
      ]
    },
    {
      "cell_type": "code",
      "execution_count": 1,
      "metadata": {
        "id": "fUGk5DLgTjFU"
      },
      "outputs": [],
      "source": [
        "#factorial of a number"
      ]
    },
    {
      "cell_type": "code",
      "source": [
        "num=int(input(\"Enter the number:\"))\n",
        "fact=1\n",
        "for i in range(1,num+1):\n",
        "  fact*=i\n",
        "print(\"factorial is:\",fact)"
      ],
      "metadata": {
        "colab": {
          "base_uri": "https://localhost:8080/"
        },
        "id": "E59VfZATTwwK",
        "outputId": "e382f736-5de1-4b13-bb7c-51cd391ee189"
      },
      "execution_count": 6,
      "outputs": [
        {
          "output_type": "stream",
          "name": "stdout",
          "text": [
            "Enter the number:6\n",
            "factorial is: 720\n"
          ]
        }
      ]
    },
    {
      "cell_type": "code",
      "source": [
        "def Fibonacci(n):\n",
        "\n",
        "    # Check if input is 0 then it will\n",
        "    # print incorrect input\n",
        "    if n < 0:\n",
        "        print(\"Incorrect input\")\n",
        "\n",
        "    # Check if n is 0\n",
        "    # then it will return 0\n",
        "    elif n == 0:\n",
        "        return 0\n",
        "\n",
        "    # Check if n is 1,2\n",
        "    # it will return 1\n",
        "    elif n == 1 or n == 2:\n",
        "        return 1\n",
        "\n",
        "    else:\n",
        "        return Fibonacci(n-1) + Fibonacci(n-2)\n",
        "\n",
        "\n",
        "# Driver Program\n",
        "print(Fibonacci(9))\n"
      ],
      "metadata": {
        "colab": {
          "base_uri": "https://localhost:8080/"
        },
        "id": "9n0W5vUnUHbm",
        "outputId": "69c3b2dc-d70c-4194-e3f1-e552e02a84df"
      },
      "execution_count": 7,
      "outputs": [
        {
          "output_type": "stream",
          "name": "stdout",
          "text": [
            "34\n"
          ]
        }
      ]
    },
    {
      "cell_type": "code",
      "source": [
        "n=int(input(\"Enter the num of terms:\"))\n",
        "n1=0\n",
        "n2=1\n",
        "\n",
        "print(\"Fibonacci series:\",n1,n2,end=\" \")\n",
        "for i in range(2,n):\n",
        "  n3=n1+n2\n",
        "  n1=n2\n",
        "  n2=n3\n",
        "  print(n3,end=\" \")\n",
        "print()"
      ],
      "metadata": {
        "colab": {
          "base_uri": "https://localhost:8080/"
        },
        "id": "WsNyLyMsVS01",
        "outputId": "5c87b514-5fa9-45d9-e0ce-291eee9f6c5b"
      },
      "execution_count": 16,
      "outputs": [
        {
          "output_type": "stream",
          "name": "stdout",
          "text": [
            "Enter the num of terms:5\n",
            "Fibonacci series: 0 1 1 2 3 \n"
          ]
        }
      ]
    },
    {
      "cell_type": "code",
      "source": [
        "#palindrome of a string\n",
        "\n",
        "str=input(\"enter string :\")\n",
        "rev=\"\"\n",
        "for i in str:\n",
        "  rev=i+rev\n",
        "if (str==rev):\n",
        "  print(\"it is palindrome\")\n",
        "else:\n",
        "  print(\"not palindrome\")"
      ],
      "metadata": {
        "colab": {
          "base_uri": "https://localhost:8080/"
        },
        "id": "QqqaRsibX8bK",
        "outputId": "8a1e3a03-efea-415c-a0f9-f05a593224b4"
      },
      "execution_count": 18,
      "outputs": [
        {
          "output_type": "stream",
          "name": "stdout",
          "text": [
            "enter string :malayalam\n",
            "it is palindrome\n"
          ]
        }
      ]
    },
    {
      "cell_type": "code",
      "source": [
        "str=input(\"enter string :\")\n",
        "rev=\"\"\n",
        "for i in str:\n",
        "  rev=str[::-1]\n",
        "if (str==rev):\n",
        "  print(\"it is palindrome\")\n",
        "else:\n",
        "  print(\"not palindrome\")"
      ],
      "metadata": {
        "colab": {
          "base_uri": "https://localhost:8080/"
        },
        "id": "DN_HEFebdaPb",
        "outputId": "9b7e7cf4-8163-4984-ccd6-732b30530c2c"
      },
      "execution_count": 20,
      "outputs": [
        {
          "output_type": "stream",
          "name": "stdout",
          "text": [
            "enter string :howl\n",
            "not palindrome\n"
          ]
        }
      ]
    },
    {
      "cell_type": "code",
      "source": [
        "# number palindrome\n",
        "n=int(input(\"Enter the number\"))\n",
        "temp=n\n",
        "rev=0\n",
        "while(n>0):\n",
        "  dig=n%10\n",
        "  rev=rev*10+dig\n",
        "  n=n//10\n",
        "if(temp==rev):\n",
        "  print(\"it is palindrome\")\n",
        "else:\n",
        "  print(\"not palindrome\")"
      ],
      "metadata": {
        "colab": {
          "base_uri": "https://localhost:8080/"
        },
        "id": "VhV7ag1_dmlM",
        "outputId": "f4f8da4f-444a-4bfa-e509-a4f4d990ad9d"
      },
      "execution_count": 25,
      "outputs": [
        {
          "output_type": "stream",
          "name": "stdout",
          "text": [
            "Enter the number121\n",
            "it is palindrome\n"
          ]
        }
      ]
    },
    {
      "cell_type": "code",
      "source": [],
      "metadata": {
        "id": "yie5GZ91hb-3"
      },
      "execution_count": 32,
      "outputs": []
    },
    {
      "cell_type": "code",
      "source": [
        "str=input(\"Enter the string:\")\n",
        "rev=\"\"\n",
        "for i in str:\n",
        "  rev=i+rev\n",
        "print(\"reversed string is:\",rev)"
      ],
      "metadata": {
        "colab": {
          "base_uri": "https://localhost:8080/"
        },
        "id": "ZUCM3l8bksWu",
        "outputId": "ec693eef-ef40-4cef-be66-3585aa96b34c"
      },
      "execution_count": 36,
      "outputs": [
        {
          "output_type": "stream",
          "name": "stdout",
          "text": [
            "Enter the string:how\n",
            "reversed string is: woh\n"
          ]
        }
      ]
    },
    {
      "cell_type": "code",
      "source": [
        "#binary search\n",
        "def BIN_SEARCH(n,arr,key):\n",
        "  low=0\n",
        "  high=n-1\n",
        "  while(low<=high):\n",
        "    mid=(low+high)//2\n",
        "    if(arr[mid]==key):\n",
        "      return mid\n",
        "    elif(key < arr[mid]):\n",
        "      high=mid-1\n",
        "    else:\n",
        "      low=mid+1\n",
        "  else:\n",
        "    return -1\n",
        "\n",
        "arr = [ 2, 3, 4, 10, 40 ]\n",
        "key=10\n",
        "n=4\n",
        "result=BIN_SEARCH(n,arr,key)\n",
        "if result != -1:\n",
        "  print(\"Element is present at index:\",result)\n",
        "else:\n",
        "  print(\"element is not present\")\n"
      ],
      "metadata": {
        "colab": {
          "base_uri": "https://localhost:8080/"
        },
        "id": "m5rC3lcMtByr",
        "outputId": "5069d6d9-6e2f-490a-cf46-b6406c377e2c"
      },
      "execution_count": 42,
      "outputs": [
        {
          "output_type": "stream",
          "name": "stdout",
          "text": [
            "Element is present at index: 3\n"
          ]
        }
      ]
    },
    {
      "cell_type": "code",
      "source": [
        "#linear saerch\n",
        "def linear_search(arr,target):\n",
        "  for index in range(len(arr)):\n",
        "    if arr[index]==target:\n",
        "      return index\n",
        "\n",
        "  return -1\n",
        "arr = [10, 23, 45, 70, 11, 15]\n",
        "target = 70\n",
        "result=linear_search(arr,target)\n",
        "if result !=-1:\n",
        "  print(\"element is present at index:\",result)\n",
        "else:\n",
        "  print(\"element is not present\")"
      ],
      "metadata": {
        "colab": {
          "base_uri": "https://localhost:8080/"
        },
        "id": "JRJlOsdM26HK",
        "outputId": "cde8e21f-b3cd-4f4d-e0b7-36c4231eff37"
      },
      "execution_count": 49,
      "outputs": [
        {
          "output_type": "stream",
          "name": "stdout",
          "text": [
            "element is present at index: 3\n"
          ]
        }
      ]
    },
    {
      "cell_type": "code",
      "source": [
        "# Bubble sort\n",
        "def bubble_sort(arr):\n",
        "  for i in range(len(arr)):\n",
        "    for j in range(0,len(arr)-i-1):\n",
        "      if arr[j]>arr[j+1]:\n",
        "        temp=arr[j]\n",
        "        arr[j]=arr[j+1]\n",
        "        arr[j+1]=temp\n",
        "data = [-2, 45, 0, 11, -9]\n",
        "bubble_sort(data)\n",
        "print(\"Sorted array:\",data)"
      ],
      "metadata": {
        "colab": {
          "base_uri": "https://localhost:8080/"
        },
        "id": "8IqQusCz9BqI",
        "outputId": "4e8fe998-7409-4bdb-e751-206934fa6caf"
      },
      "execution_count": 4,
      "outputs": [
        {
          "output_type": "stream",
          "name": "stdout",
          "text": [
            "Sorted array: [-9, -2, 0, 11, 45]\n"
          ]
        }
      ]
    },
    {
      "cell_type": "code",
      "source": [],
      "metadata": {
        "id": "K_uAWlOjLAD4"
      },
      "execution_count": null,
      "outputs": []
    }
  ]
}