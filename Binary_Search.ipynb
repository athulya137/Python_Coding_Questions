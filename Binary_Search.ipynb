{
  "nbformat": 4,
  "nbformat_minor": 0,
  "metadata": {
    "colab": {
      "provenance": [],
      "authorship_tag": "ABX9TyOSHQZy32IAjhsd5cfMMmq2",
      "include_colab_link": true
    },
    "kernelspec": {
      "name": "python3",
      "display_name": "Python 3"
    },
    "language_info": {
      "name": "python"
    }
  },
  "cells": [
    {
      "cell_type": "markdown",
      "metadata": {
        "id": "view-in-github",
        "colab_type": "text"
      },
      "source": [
        "<a href=\"https://colab.research.google.com/github/athulya137/Python_Coding_Questions/blob/main/Binary_Search.ipynb\" target=\"_parent\"><img src=\"https://colab.research.google.com/assets/colab-badge.svg\" alt=\"Open In Colab\"/></a>"
      ]
    },
    {
      "cell_type": "code",
      "execution_count": 7,
      "metadata": {
        "colab": {
          "base_uri": "https://localhost:8080/"
        },
        "id": "evDwT1p-C90i",
        "outputId": "d86b42c9-de03-44d3-e4e5-aab468e409b5"
      },
      "outputs": [
        {
          "output_type": "stream",
          "name": "stdout",
          "text": [
            "Element Found at index: 3\n"
          ]
        }
      ],
      "source": [
        "def binary_search(array,key,low,high):\n",
        "  while low<=high:\n",
        "    mid = (low+high)//2\n",
        "    if key==array[mid]:\n",
        "      return mid\n",
        "    elif key > array[mid]:\n",
        "      low = mid+1\n",
        "    elif key < array[mid]:\n",
        "      high = mid-1\n",
        "  return -1\n",
        "array =[4,45,9,12,100,33,1]\n",
        "key=12\n",
        "result= binary_search(array,key,0,len(array)-1)\n",
        "\n",
        "if result == -1:\n",
        "  print(\"Element Not Found\")\n",
        "else:\n",
        "  print(\"Element Found at index:\",result)"
      ]
    },
    {
      "cell_type": "code",
      "source": [],
      "metadata": {
        "id": "6QIpY6rgFIyK"
      },
      "execution_count": null,
      "outputs": []
    }
  ]
}