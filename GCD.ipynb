{
  "nbformat": 4,
  "nbformat_minor": 0,
  "metadata": {
    "colab": {
      "provenance": [],
      "authorship_tag": "ABX9TyM/7te/jgOjBPMtnjYiqkJV",
      "include_colab_link": true
    },
    "kernelspec": {
      "name": "python3",
      "display_name": "Python 3"
    },
    "language_info": {
      "name": "python"
    }
  },
  "cells": [
    {
      "cell_type": "markdown",
      "metadata": {
        "id": "view-in-github",
        "colab_type": "text"
      },
      "source": [
        "<a href=\"https://colab.research.google.com/github/athulya137/Python_Coding_Questions/blob/main/GCD.ipynb\" target=\"_parent\"><img src=\"https://colab.research.google.com/assets/colab-badge.svg\" alt=\"Open In Colab\"/></a>"
      ]
    },
    {
      "cell_type": "code",
      "execution_count": 1,
      "metadata": {
        "id": "yIk98ScADKnH"
      },
      "outputs": [],
      "source": [
        "# Write code of Greatest Common Divisor"
      ]
    },
    {
      "cell_type": "code",
      "source": [
        "num1=int(input(\"Enter the first number:\"))\n",
        "num2=int(input(\"Enter the second number:\"))\n",
        "\n",
        "if num1>num2:\n",
        "  small=num2\n",
        "else:\n",
        "  small=num1\n",
        "for i in range(1,small+1):\n",
        "  if (num1 % i ==0) and (num2 % i==0) :\n",
        "    gcd=i\n",
        "print(\"Greatest Common Divisor of {} & {} is\".format(num1,num2),gcd)"
      ],
      "metadata": {
        "colab": {
          "base_uri": "https://localhost:8080/"
        },
        "id": "lXShTnMcF-Dp",
        "outputId": "c11b82b6-0066-4fed-8fa5-70864d0102ad"
      },
      "execution_count": 4,
      "outputs": [
        {
          "output_type": "stream",
          "name": "stdout",
          "text": [
            "Enter the first number:25\n",
            "Enter the second number:15\n",
            "Greatest Common Divisor of 25 & 15 is 5\n"
          ]
        }
      ]
    },
    {
      "cell_type": "code",
      "source": [],
      "metadata": {
        "id": "wp6zS8OfHlWy"
      },
      "execution_count": null,
      "outputs": []
    }
  ]
}