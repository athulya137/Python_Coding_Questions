{
  "nbformat": 4,
  "nbformat_minor": 0,
  "metadata": {
    "colab": {
      "provenance": [],
      "authorship_tag": "ABX9TyOglzgHI6YKLvUo0/niLPVE",
      "include_colab_link": true
    },
    "kernelspec": {
      "name": "python3",
      "display_name": "Python 3"
    },
    "language_info": {
      "name": "python"
    }
  },
  "cells": [
    {
      "cell_type": "markdown",
      "metadata": {
        "id": "view-in-github",
        "colab_type": "text"
      },
      "source": [
        "<a href=\"https://colab.research.google.com/github/athulya137/Python_Coding_Questions/blob/main/Bubblesort.ipynb\" target=\"_parent\"><img src=\"https://colab.research.google.com/assets/colab-badge.svg\" alt=\"Open In Colab\"/></a>"
      ]
    },
    {
      "cell_type": "code",
      "execution_count": 6,
      "metadata": {
        "colab": {
          "base_uri": "https://localhost:8080/"
        },
        "id": "7w8l3Nc2Ywf8",
        "outputId": "baaa0750-fe51-4d43-8577-6581055ef38d"
      },
      "outputs": [
        {
          "output_type": "stream",
          "name": "stdout",
          "text": [
            "[3, 7, 10, 22, 56, 94]\n"
          ]
        }
      ],
      "source": [
        "def bubblesort(array):\n",
        "  for i in range(len(array)):\n",
        "    for j in range(0,len(array)-i-1):\n",
        "      if array[j] > array[j+1]:\n",
        "        temp = array[j]\n",
        "        array[j] = array[j+1]\n",
        "        array[j+1] = temp\n",
        "\n",
        "data = [22, 56,3,10,7,94]\n",
        "bubblesort(data)\n",
        "print(data)"
      ]
    },
    {
      "cell_type": "code",
      "source": [
        "data = [2, 506,13,1,70,4]\n",
        "bubblesort(data)\n",
        "print(data)"
      ],
      "metadata": {
        "colab": {
          "base_uri": "https://localhost:8080/"
        },
        "id": "GgLXD1VzevFC",
        "outputId": "67bc20b1-d65e-4f21-bdc7-a82f2b8b1370"
      },
      "execution_count": 7,
      "outputs": [
        {
          "output_type": "stream",
          "name": "stdout",
          "text": [
            "[1, 2, 4, 13, 70, 506]\n"
          ]
        }
      ]
    },
    {
      "cell_type": "code",
      "source": [],
      "metadata": {
        "id": "o8WCjP6be80g"
      },
      "execution_count": null,
      "outputs": []
    }
  ]
}