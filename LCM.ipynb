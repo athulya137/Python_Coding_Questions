{
  "nbformat": 4,
  "nbformat_minor": 0,
  "metadata": {
    "colab": {
      "provenance": [],
      "authorship_tag": "ABX9TyNKUBEvEeMr6cT2/C82WdyP",
      "include_colab_link": true
    },
    "kernelspec": {
      "name": "python3",
      "display_name": "Python 3"
    },
    "language_info": {
      "name": "python"
    }
  },
  "cells": [
    {
      "cell_type": "markdown",
      "metadata": {
        "id": "view-in-github",
        "colab_type": "text"
      },
      "source": [
        "<a href=\"https://colab.research.google.com/github/athulya137/Python_Coding_Questions/blob/main/LCM.ipynb\" target=\"_parent\"><img src=\"https://colab.research.google.com/assets/colab-badge.svg\" alt=\"Open In Colab\"/></a>"
      ]
    },
    {
      "cell_type": "code",
      "execution_count": 4,
      "metadata": {
        "colab": {
          "base_uri": "https://localhost:8080/"
        },
        "id": "hR69jEh01NPl",
        "outputId": "ab775620-22d2-444f-8482-b7f9d6c28cb3"
      },
      "outputs": [
        {
          "output_type": "stream",
          "name": "stdout",
          "text": [
            "LCM=  216\n"
          ]
        }
      ],
      "source": [
        "def find_lcm(x,y):\n",
        "  if x > y:\n",
        "    greater = x\n",
        "  else:\n",
        "    greater = y\n",
        "  while(True):\n",
        "    if (greater % x == 0) and (greater % y == 0):\n",
        "      lcm = greater\n",
        "      break\n",
        "    greater +=1\n",
        "  return lcm\n",
        "\n",
        "print(\"LCM= \",find_lcm(54,24))"
      ]
    },
    {
      "cell_type": "code",
      "source": [
        "print(\"LCM= \",find_lcm(10,20))"
      ],
      "metadata": {
        "colab": {
          "base_uri": "https://localhost:8080/"
        },
        "id": "QZL-tVw_2Dzt",
        "outputId": "3f763cec-ed03-4058-da31-a9404a850ed6"
      },
      "execution_count": 5,
      "outputs": [
        {
          "output_type": "stream",
          "name": "stdout",
          "text": [
            "LCM=  20\n"
          ]
        }
      ]
    },
    {
      "cell_type": "code",
      "source": [],
      "metadata": {
        "id": "WqtPDqGJ3WL_"
      },
      "execution_count": null,
      "outputs": []
    }
  ]
}