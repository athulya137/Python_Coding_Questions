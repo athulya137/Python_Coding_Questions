{
  "nbformat": 4,
  "nbformat_minor": 0,
  "metadata": {
    "colab": {
      "provenance": [],
      "authorship_tag": "ABX9TyOEFzB+hoayf3e2XZ8Vguaa",
      "include_colab_link": true
    },
    "kernelspec": {
      "name": "python3",
      "display_name": "Python 3"
    },
    "language_info": {
      "name": "python"
    }
  },
  "cells": [
    {
      "cell_type": "markdown",
      "metadata": {
        "id": "view-in-github",
        "colab_type": "text"
      },
      "source": [
        "<a href=\"https://colab.research.google.com/github/athulya137/Python_Coding_Questions/blob/main/Insertionsort.ipynb\" target=\"_parent\"><img src=\"https://colab.research.google.com/assets/colab-badge.svg\" alt=\"Open In Colab\"/></a>"
      ]
    },
    {
      "cell_type": "code",
      "execution_count": 2,
      "metadata": {
        "colab": {
          "base_uri": "https://localhost:8080/"
        },
        "id": "JMe2yPYb8Bwi",
        "outputId": "58120e00-865f-411a-9df9-bdf5017b1890"
      },
      "outputs": [
        {
          "output_type": "stream",
          "name": "stdout",
          "text": [
            "Sorted Array :  [1, 2, 4, 6, 7, 9, 12]\n"
          ]
        }
      ],
      "source": [
        "a = [1, 2, 7, 6, 4, 9, 12]\n",
        "for m in range(1,len(a)):\n",
        "  n=m\n",
        "  while n>0 and a[n-1]>a[n]:\n",
        "    k=a[n]\n",
        "    a[n]=a[n-1]\n",
        "    a[n-1]=k\n",
        "    n-=1\n",
        "print(\"Sorted Array : \",a)"
      ]
    },
    {
      "cell_type": "code",
      "source": [],
      "metadata": {
        "id": "z8j6GwZp8YZU"
      },
      "execution_count": null,
      "outputs": []
    }
  ]
}