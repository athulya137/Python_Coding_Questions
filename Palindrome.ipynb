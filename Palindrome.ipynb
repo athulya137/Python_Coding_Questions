{
  "nbformat": 4,
  "nbformat_minor": 0,
  "metadata": {
    "colab": {
      "provenance": [],
      "authorship_tag": "ABX9TyNnz48d4jgl/h9EVtjKXOXY",
      "include_colab_link": true
    },
    "kernelspec": {
      "name": "python3",
      "display_name": "Python 3"
    },
    "language_info": {
      "name": "python"
    }
  },
  "cells": [
    {
      "cell_type": "markdown",
      "metadata": {
        "id": "view-in-github",
        "colab_type": "text"
      },
      "source": [
        "<a href=\"https://colab.research.google.com/github/athulya137/Python_Coding_Questions/blob/main/Palindrome.ipynb\" target=\"_parent\"><img src=\"https://colab.research.google.com/assets/colab-badge.svg\" alt=\"Open In Colab\"/></a>"
      ]
    },
    {
      "cell_type": "code",
      "source": [
        "# Number Palindrome"
      ],
      "metadata": {
        "id": "dzyEWIvITswA"
      },
      "execution_count": 1,
      "outputs": []
    },
    {
      "cell_type": "code",
      "execution_count": 3,
      "metadata": {
        "colab": {
          "base_uri": "https://localhost:8080/"
        },
        "id": "-WTy5zLyThcR",
        "outputId": "5f69f52e-73e9-4235-e714-8ce945a65b10"
      },
      "outputs": [
        {
          "output_type": "stream",
          "name": "stdout",
          "text": [
            "Palindrome\n"
          ]
        }
      ],
      "source": [
        "num = 1221\n",
        "temp = num\n",
        "reverse = 0\n",
        "while temp > 0:\n",
        "    remainder = temp % 10\n",
        "    reverse = (reverse * 10) + remainder\n",
        "    temp = temp // 10\n",
        "if num == reverse:\n",
        "  print('Palindrome')\n",
        "else:\n",
        "  print(\"Not Palindrome\")\n"
      ]
    },
    {
      "cell_type": "code",
      "source": [
        "# Number Palindrome Using Slicing"
      ],
      "metadata": {
        "id": "GQFa-u2qUNCF"
      },
      "execution_count": null,
      "outputs": []
    },
    {
      "cell_type": "code",
      "source": [
        "num = 1234\n",
        "reverse = int(str(num)[::-1])\n",
        "\n",
        "if num == reverse:\n",
        "  print('Palindrome')\n",
        "else:\n",
        "  print(\"Not Palindrome\")"
      ],
      "metadata": {
        "colab": {
          "base_uri": "https://localhost:8080/"
        },
        "id": "9PsxIa7iUOu1",
        "outputId": "a7db6e0b-573e-45bf-89da-0659c72b2102"
      },
      "execution_count": 5,
      "outputs": [
        {
          "output_type": "stream",
          "name": "stdout",
          "text": [
            "Not Palindrome\n"
          ]
        }
      ]
    },
    {
      "cell_type": "code",
      "source": [
        "# String Palindrome"
      ],
      "metadata": {
        "id": "G0TTF34gTxi7"
      },
      "execution_count": 4,
      "outputs": []
    },
    {
      "cell_type": "code",
      "source": [
        "s = \"malayalam\" # string\n",
        "\n",
        "if s == s[::-1]:\n",
        "    print(\"Yes\")\n",
        "else:\n",
        "    print(\"No\")"
      ],
      "metadata": {
        "colab": {
          "base_uri": "https://localhost:8080/"
        },
        "id": "XsyICR9kT9n6",
        "outputId": "45201aa9-d104-42c3-f081-187fca1458fc"
      },
      "execution_count": 6,
      "outputs": [
        {
          "output_type": "stream",
          "name": "stdout",
          "text": [
            "Yes\n"
          ]
        }
      ]
    },
    {
      "cell_type": "code",
      "source": [],
      "metadata": {
        "id": "_PtAIeaMUkDA"
      },
      "execution_count": null,
      "outputs": []
    }
  ]
}