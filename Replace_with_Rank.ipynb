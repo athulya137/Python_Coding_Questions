{
  "nbformat": 4,
  "nbformat_minor": 0,
  "metadata": {
    "colab": {
      "provenance": [],
      "authorship_tag": "ABX9TyOv/rXEc5M2jM5MlR8z46on",
      "include_colab_link": true
    },
    "kernelspec": {
      "name": "python3",
      "display_name": "Python 3"
    },
    "language_info": {
      "name": "python"
    }
  },
  "cells": [
    {
      "cell_type": "markdown",
      "metadata": {
        "id": "view-in-github",
        "colab_type": "text"
      },
      "source": [
        "<a href=\"https://colab.research.google.com/github/athulya137/Python_Coding_Questions/blob/main/Replace_with_Rank.ipynb\" target=\"_parent\"><img src=\"https://colab.research.google.com/assets/colab-badge.svg\" alt=\"Open In Colab\"/></a>"
      ]
    },
    {
      "cell_type": "code",
      "execution_count": 1,
      "metadata": {
        "id": "EKHvPLbcjZcI"
      },
      "outputs": [],
      "source": [
        "# Write a code to replace each element in an array by its rank in the array"
      ]
    },
    {
      "cell_type": "code",
      "source": [
        "def changearr(input_arr):\n",
        "\n",
        "  new_arr=input_arr.copy()\n",
        "  new_arr.sort()\n",
        "  for i in range(len(input_arr)):\n",
        "    for j in range(len(new_arr)):\n",
        "      if (input_arr[i] == new_arr[j]):\n",
        "        input_arr[i] = j+1\n",
        "        break\n",
        "arr = [100, 2, 70, 12 , 90]\n",
        "changearr(arr)\n",
        "# Print the array elements\n",
        "print(arr)"
      ],
      "metadata": {
        "colab": {
          "base_uri": "https://localhost:8080/"
        },
        "id": "hrKxvtRBjafo",
        "outputId": "859bb9b2-6500-4eec-dda5-7f2ff3a01cc6"
      },
      "execution_count": 3,
      "outputs": [
        {
          "output_type": "stream",
          "name": "stdout",
          "text": [
            "[5, 1, 3, 2, 4]\n"
          ]
        }
      ]
    },
    {
      "cell_type": "code",
      "source": [],
      "metadata": {
        "id": "3JQln7Colh_i"
      },
      "execution_count": null,
      "outputs": []
    }
  ]
}