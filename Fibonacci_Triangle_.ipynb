{
  "nbformat": 4,
  "nbformat_minor": 0,
  "metadata": {
    "colab": {
      "provenance": [],
      "authorship_tag": "ABX9TyPnLLihSru9FDNeAxNJI8A9",
      "include_colab_link": true
    },
    "kernelspec": {
      "name": "python3",
      "display_name": "Python 3"
    },
    "language_info": {
      "name": "python"
    }
  },
  "cells": [
    {
      "cell_type": "markdown",
      "metadata": {
        "id": "view-in-github",
        "colab_type": "text"
      },
      "source": [
        "<a href=\"https://colab.research.google.com/github/athulya137/Python_Coding_Questions/blob/main/Fibonacci_Triangle_.ipynb\" target=\"_parent\"><img src=\"https://colab.research.google.com/assets/colab-badge.svg\" alt=\"Open In Colab\"/></a>"
      ]
    },
    {
      "cell_type": "code",
      "execution_count": 1,
      "metadata": {
        "id": "A3NUTPPk6l9E"
      },
      "outputs": [],
      "source": [
        "#  Python program to generate a Fibonacci Triangle:"
      ]
    },
    {
      "cell_type": "code",
      "source": [
        "def generate_fibonacci_triangle(n):\n",
        "    # Generate Fibonacci sequence up to the required number of terms\n",
        "    fibonacci = [0, 1]\n",
        "    while len(fibonacci) < (n * (n + 1)) // 2:  # Total terms required for the triangle\n",
        "        fibonacci.append(fibonacci[-1] + fibonacci[-2])\n",
        "\n",
        "    # Generate and print the triangle\n",
        "    index = 0\n",
        "    for i in range(1, n + 1):\n",
        "        for j in range(i):\n",
        "            print(fibonacci[index], end=\" \")\n",
        "            index += 1\n",
        "        print()\n",
        "\n",
        "# Input: Number of rows for the Fibonacci Triangle\n",
        "num_rows = int(input(\"Enter the number of rows for the Fibonacci Triangle: \"))\n",
        "\n",
        "# Generate and display the triangle\n",
        "generate_fibonacci_triangle(num_rows)\n"
      ],
      "metadata": {
        "colab": {
          "base_uri": "https://localhost:8080/"
        },
        "id": "Tqb4nR9c6skf",
        "outputId": "5c5693b8-fcba-4eab-e70e-0391e86e6216"
      },
      "execution_count": 2,
      "outputs": [
        {
          "output_type": "stream",
          "name": "stdout",
          "text": [
            "Enter the number of rows for the Fibonacci Triangle: 5\n",
            "0 \n",
            "1 1 \n",
            "2 3 5 \n",
            "8 13 21 34 \n",
            "55 89 144 233 377 \n"
          ]
        }
      ]
    },
    {
      "cell_type": "code",
      "source": [],
      "metadata": {
        "id": "jf5xH_q27Q-X"
      },
      "execution_count": null,
      "outputs": []
    }
  ]
}