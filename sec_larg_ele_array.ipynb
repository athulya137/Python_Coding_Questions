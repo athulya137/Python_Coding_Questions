{
  "nbformat": 4,
  "nbformat_minor": 0,
  "metadata": {
    "colab": {
      "provenance": [],
      "authorship_tag": "ABX9TyMpOeAaLWZu5w7l6sFjn8Dn",
      "include_colab_link": true
    },
    "kernelspec": {
      "name": "python3",
      "display_name": "Python 3"
    },
    "language_info": {
      "name": "python"
    }
  },
  "cells": [
    {
      "cell_type": "markdown",
      "metadata": {
        "id": "view-in-github",
        "colab_type": "text"
      },
      "source": [
        "<a href=\"https://colab.research.google.com/github/athulya137/Python_Coding_Questions/blob/main/sec_larg_ele_array.ipynb\" target=\"_parent\"><img src=\"https://colab.research.google.com/assets/colab-badge.svg\" alt=\"Open In Colab\"/></a>"
      ]
    },
    {
      "cell_type": "code",
      "execution_count": 1,
      "metadata": {
        "id": "ibK2kQEYfhq0"
      },
      "outputs": [],
      "source": [
        "#  find the second largest number in an array"
      ]
    },
    {
      "cell_type": "code",
      "source": [
        "def second_largest(array):\n",
        "  array= list(set(array))\n",
        "  array.sort()\n",
        "  if len(array) <2:\n",
        "    return None\n",
        "  return array[-2]\n",
        "a=[23,4,11,90,454,8]\n",
        "print(\"Second Largest Element is :\",second_largest(a))"
      ],
      "metadata": {
        "colab": {
          "base_uri": "https://localhost:8080/"
        },
        "id": "ifcGye16g8X_",
        "outputId": "2ff8b1dc-373a-45ac-8a45-932df8454285"
      },
      "execution_count": 12,
      "outputs": [
        {
          "output_type": "stream",
          "name": "stdout",
          "text": [
            "Second Largest Element is : 90\n"
          ]
        }
      ]
    },
    {
      "cell_type": "code",
      "source": [],
      "metadata": {
        "id": "aATsd4eli2Cp"
      },
      "execution_count": null,
      "outputs": []
    }
  ]
}