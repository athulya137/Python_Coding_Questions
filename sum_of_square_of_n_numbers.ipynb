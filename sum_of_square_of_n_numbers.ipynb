{
  "nbformat": 4,
  "nbformat_minor": 0,
  "metadata": {
    "colab": {
      "provenance": [],
      "authorship_tag": "ABX9TyOJ0kXE5xbb0zfAtdOAdQMq",
      "include_colab_link": true
    },
    "kernelspec": {
      "name": "python3",
      "display_name": "Python 3"
    },
    "language_info": {
      "name": "python"
    }
  },
  "cells": [
    {
      "cell_type": "markdown",
      "metadata": {
        "id": "view-in-github",
        "colab_type": "text"
      },
      "source": [
        "<a href=\"https://colab.research.google.com/github/athulya137/Python_Coding_Questions/blob/main/sum_of_square_of_n_numbers.ipynb\" target=\"_parent\"><img src=\"https://colab.research.google.com/assets/colab-badge.svg\" alt=\"Open In Colab\"/></a>"
      ]
    },
    {
      "cell_type": "code",
      "execution_count": 1,
      "metadata": {
        "id": "islI6XIw1SOi"
      },
      "outputs": [],
      "source": [
        "# Write a Python Program for Sum of squares of first n natural numbers"
      ]
    },
    {
      "cell_type": "code",
      "source": [
        "n= int(input(\"Enter value of n:\"))\n",
        "sum=0\n",
        "for i in range(1,n+1):\n",
        "  sum+=(i*i)\n",
        "  i+=1\n",
        "print(\"sum is:\",sum)"
      ],
      "metadata": {
        "colab": {
          "base_uri": "https://localhost:8080/"
        },
        "id": "_MUJVIbE1Ubu",
        "outputId": "56d6e805-9726-49d7-a7db-8a428f878c02"
      },
      "execution_count": 9,
      "outputs": [
        {
          "output_type": "stream",
          "name": "stdout",
          "text": [
            "Enter value of n:4\n",
            "sum is: 30\n"
          ]
        }
      ]
    },
    {
      "cell_type": "code",
      "source": [],
      "metadata": {
        "id": "zwU5riPQ2Nq1"
      },
      "execution_count": null,
      "outputs": []
    }
  ]
}