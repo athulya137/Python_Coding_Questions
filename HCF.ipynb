{
  "nbformat": 4,
  "nbformat_minor": 0,
  "metadata": {
    "colab": {
      "provenance": [],
      "authorship_tag": "ABX9TyNlVUhk2tEj0DOsBXNW3oJZ",
      "include_colab_link": true
    },
    "kernelspec": {
      "name": "python3",
      "display_name": "Python 3"
    },
    "language_info": {
      "name": "python"
    }
  },
  "cells": [
    {
      "cell_type": "markdown",
      "metadata": {
        "id": "view-in-github",
        "colab_type": "text"
      },
      "source": [
        "<a href=\"https://colab.research.google.com/github/athulya137/Python_Coding_Questions/blob/main/HCF.ipynb\" target=\"_parent\"><img src=\"https://colab.research.google.com/assets/colab-badge.svg\" alt=\"Open In Colab\"/></a>"
      ]
    },
    {
      "cell_type": "code",
      "execution_count": 3,
      "metadata": {
        "colab": {
          "base_uri": "https://localhost:8080/"
        },
        "id": "BPnwNMXUzLcj",
        "outputId": "8a213a1a-a4b9-40ae-a7b9-585cb9e2139f"
      },
      "outputs": [
        {
          "output_type": "stream",
          "name": "stdout",
          "text": [
            "The HCF is :  6\n"
          ]
        }
      ],
      "source": [
        "def find_hcf(x,y):\n",
        "  if x > y:\n",
        "    smaller = y\n",
        "  else:\n",
        "    smaller = x\n",
        "  for i in range(1, smaller + 1):\n",
        "    if (x % i == 0) and (y % i == 0):\n",
        "      hcf = i\n",
        "  return hcf\n",
        "num1 = 54\n",
        "num2 = 24\n",
        "print(\"The HCF is : \",find_hcf(num1,num2))"
      ]
    },
    {
      "cell_type": "code",
      "source": [
        "print(\"The HCF is : \",find_hcf(20,12))"
      ],
      "metadata": {
        "colab": {
          "base_uri": "https://localhost:8080/"
        },
        "id": "cd9Nzi77z3r9",
        "outputId": "879e508d-c3d0-43fa-f4d7-1c5bbb513f62"
      },
      "execution_count": 4,
      "outputs": [
        {
          "output_type": "stream",
          "name": "stdout",
          "text": [
            "The HCF is :  4\n"
          ]
        }
      ]
    },
    {
      "cell_type": "code",
      "source": [],
      "metadata": {
        "id": "DHDkm2zt0K2S"
      },
      "execution_count": null,
      "outputs": []
    }
  ]
}