{
  "nbformat": 4,
  "nbformat_minor": 0,
  "metadata": {
    "colab": {
      "provenance": [],
      "authorship_tag": "ABX9TyM0PDeZZIHTF23pDrtsN1+B",
      "include_colab_link": true
    },
    "kernelspec": {
      "name": "python3",
      "display_name": "Python 3"
    },
    "language_info": {
      "name": "python"
    }
  },
  "cells": [
    {
      "cell_type": "markdown",
      "metadata": {
        "id": "view-in-github",
        "colab_type": "text"
      },
      "source": [
        "<a href=\"https://colab.research.google.com/github/athulya137/Python_Coding_Questions/blob/main/Pyramid_Patterns.ipynb\" target=\"_parent\"><img src=\"https://colab.research.google.com/assets/colab-badge.svg\" alt=\"Open In Colab\"/></a>"
      ]
    },
    {
      "cell_type": "code",
      "execution_count": 2,
      "metadata": {
        "id": "FSiHAPz8VXqv"
      },
      "outputs": [],
      "source": [
        "# Full Pyramid Patterns in Python using Loop"
      ]
    },
    {
      "cell_type": "code",
      "source": [
        "# Function to print full pyramid pattern\n",
        "def full_pyramid(n):\n",
        "    for i in range(1, n + 1):\n",
        "        # Print leading spaces\n",
        "        for j in range(n - i):\n",
        "            print(\" \", end=\"\")\n",
        "\n",
        "        # Print asterisks for the current row\n",
        "        for k in range(1, 2*i):\n",
        "            print(\"*\", end=\"\")\n",
        "        print()\n",
        "\n",
        "full_pyramid(5)"
      ],
      "metadata": {
        "colab": {
          "base_uri": "https://localhost:8080/"
        },
        "id": "zyA7mB9RVYJt",
        "outputId": "87a92d52-de59-4056-fec2-f9e0d92096c9"
      },
      "execution_count": 1,
      "outputs": [
        {
          "output_type": "stream",
          "name": "stdout",
          "text": [
            "    *\n",
            "   ***\n",
            "  *****\n",
            " *******\n",
            "*********\n"
          ]
        }
      ]
    },
    {
      "cell_type": "code",
      "source": [
        "# Function to print inverted full pyramid pattern\n",
        "def inverted_full_pyramid(n):\n",
        "    # Outer loop for the number of rows\n",
        "    for i in range(n, 0, -1):\n",
        "        # Inner loop for leading spaces in each row\n",
        "        for j in range(n - i):\n",
        "            print(\" \", end=\"\")\n",
        "        # Inner loop for printing asterisks in each row\n",
        "        for k in range(2*i - 1):\n",
        "            print(\"*\", end=\"\")\n",
        "        # Move to the next line after each row\n",
        "        print(\"\")\n",
        "\n",
        "# Set the value of n (number of rows)\n",
        "n = 5\n",
        "\n",
        "# Call the function to print the inverted full pyramid\n",
        "inverted_full_pyramid(n)"
      ],
      "metadata": {
        "colab": {
          "base_uri": "https://localhost:8080/"
        },
        "id": "Zv4L3utsVYnd",
        "outputId": "06289afe-3f33-4cb3-e26a-71d594655b69"
      },
      "execution_count": 5,
      "outputs": [
        {
          "output_type": "stream",
          "name": "stdout",
          "text": [
            "*********\n",
            " *******\n",
            "  *****\n",
            "   ***\n",
            "    *\n"
          ]
        }
      ]
    },
    {
      "cell_type": "code",
      "source": [
        "def print_number_pyramid(rows):\n",
        "    for i in range(1, rows + 1):\n",
        "        # Print spaces\n",
        "        for j in range(rows - i):\n",
        "            print(\" \", end=\"\")\n",
        "        # Print numbers\n",
        "        for j in range(2 * i - 1):\n",
        "            print(j + 1, end=\"\")\n",
        "        # Move to the next line after each row\n",
        "        print()\n",
        "\n",
        "# Example usage\n",
        "num_rows = 5\n",
        "print_number_pyramid(num_rows)"
      ],
      "metadata": {
        "colab": {
          "base_uri": "https://localhost:8080/"
        },
        "id": "YFFSdB3KV3L6",
        "outputId": "c973fcaf-b964-4c7d-9f40-74c6ef0e0e0d"
      },
      "execution_count": 6,
      "outputs": [
        {
          "output_type": "stream",
          "name": "stdout",
          "text": [
            "    1\n",
            "   123\n",
            "  12345\n",
            " 1234567\n",
            "123456789\n"
          ]
        }
      ]
    },
    {
      "cell_type": "code",
      "source": [],
      "metadata": {
        "id": "nsJLjYTFXpum"
      },
      "execution_count": null,
      "outputs": []
    }
  ]
}