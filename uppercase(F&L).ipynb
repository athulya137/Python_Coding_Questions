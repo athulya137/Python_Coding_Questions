{
  "nbformat": 4,
  "nbformat_minor": 0,
  "metadata": {
    "colab": {
      "provenance": [],
      "authorship_tag": "ABX9TyMFjNPAbTB1yHjCD3wGOrGI",
      "include_colab_link": true
    },
    "kernelspec": {
      "name": "python3",
      "display_name": "Python 3"
    },
    "language_info": {
      "name": "python"
    }
  },
  "cells": [
    {
      "cell_type": "markdown",
      "metadata": {
        "id": "view-in-github",
        "colab_type": "text"
      },
      "source": [
        "<a href=\"https://colab.research.google.com/github/athulya137/Python_Coding_Questions/blob/main/uppercase(F%26L).ipynb\" target=\"_parent\"><img src=\"https://colab.research.google.com/assets/colab-badge.svg\" alt=\"Open In Colab\"/></a>"
      ]
    },
    {
      "cell_type": "code",
      "execution_count": 1,
      "metadata": {
        "id": "NMqHyQTzEHuT"
      },
      "outputs": [],
      "source": [
        "#Python program to convert first and last letter of string to Upper-Case"
      ]
    },
    {
      "cell_type": "code",
      "source": [],
      "metadata": {
        "id": "ASkXPlevFqg7"
      },
      "execution_count": 7,
      "outputs": []
    },
    {
      "cell_type": "code",
      "source": [
        "string= input(\"Enter the String:\")\n",
        "string= string[0:1].upper()+string[1:len(string)-1]+string[len(string)-1:len(string)].upper()\n",
        "print(string)"
      ],
      "metadata": {
        "colab": {
          "base_uri": "https://localhost:8080/"
        },
        "id": "YW-gJZMxEI90",
        "outputId": "a8fc6797-7c75-425c-d3e4-8a7fab98d496"
      },
      "execution_count": 8,
      "outputs": [
        {
          "output_type": "stream",
          "name": "stdout",
          "text": [
            "Enter the String:athulya\n",
            "AthulyA\n"
          ]
        }
      ]
    },
    {
      "cell_type": "code",
      "source": [],
      "metadata": {
        "id": "wbvjKV3xFJ10"
      },
      "execution_count": null,
      "outputs": []
    }
  ]
}