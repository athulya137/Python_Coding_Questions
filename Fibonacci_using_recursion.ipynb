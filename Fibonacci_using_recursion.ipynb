{
  "nbformat": 4,
  "nbformat_minor": 0,
  "metadata": {
    "colab": {
      "provenance": [],
      "authorship_tag": "ABX9TyOm5RYh3kBoKMCYA5/pqZVx",
      "include_colab_link": true
    },
    "kernelspec": {
      "name": "python3",
      "display_name": "Python 3"
    },
    "language_info": {
      "name": "python"
    }
  },
  "cells": [
    {
      "cell_type": "markdown",
      "metadata": {
        "id": "view-in-github",
        "colab_type": "text"
      },
      "source": [
        "<a href=\"https://colab.research.google.com/github/athulya137/Python_Coding_Questions/blob/main/Fibonacci_using_recursion.ipynb\" target=\"_parent\"><img src=\"https://colab.research.google.com/assets/colab-badge.svg\" alt=\"Open In Colab\"/></a>"
      ]
    },
    {
      "cell_type": "code",
      "execution_count": 2,
      "metadata": {
        "colab": {
          "base_uri": "https://localhost:8080/"
        },
        "id": "qMwXCFWVT4lD",
        "outputId": "bf2f91c7-06b4-46e7-cb7d-9b446f50c7fb"
      },
      "outputs": [
        {
          "output_type": "stream",
          "name": "stdout",
          "text": [
            "34\n"
          ]
        }
      ],
      "source": [
        "#Function for nth Fibonacci number\n",
        "def Fibo(n):\n",
        "    if n<0:\n",
        "        print(\"Incorrect input\")\n",
        "#1st Fibonacci number is 0\n",
        "    elif n==0:\n",
        "        return 0\n",
        "#2nd Fibonacci number is 1\n",
        "    elif n==1:\n",
        "        return 1\n",
        "    else:\n",
        "      return Fibo(n-1)+Fibo(n-2)\n",
        "\n",
        "#Main Program\n",
        "print(Fibo(9))\n",
        "\n",
        "\n"
      ]
    },
    {
      "cell_type": "code",
      "source": [],
      "metadata": {
        "id": "zAWBLeoiVumm"
      },
      "execution_count": null,
      "outputs": []
    }
  ]
}