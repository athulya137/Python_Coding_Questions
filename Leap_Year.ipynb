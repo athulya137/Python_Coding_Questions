{
  "nbformat": 4,
  "nbformat_minor": 0,
  "metadata": {
    "colab": {
      "provenance": [],
      "authorship_tag": "ABX9TyP7SFx01zZF58YMu4IEauJx",
      "include_colab_link": true
    },
    "kernelspec": {
      "name": "python3",
      "display_name": "Python 3"
    },
    "language_info": {
      "name": "python"
    }
  },
  "cells": [
    {
      "cell_type": "markdown",
      "metadata": {
        "id": "view-in-github",
        "colab_type": "text"
      },
      "source": [
        "<a href=\"https://colab.research.google.com/github/athulya137/Python_Coding_Questions/blob/main/Leap_Year.ipynb\" target=\"_parent\"><img src=\"https://colab.research.google.com/assets/colab-badge.svg\" alt=\"Open In Colab\"/></a>"
      ]
    },
    {
      "cell_type": "code",
      "execution_count": 4,
      "metadata": {
        "colab": {
          "base_uri": "https://localhost:8080/"
        },
        "id": "A0CCvox94Z_p",
        "outputId": "6b5d4db4-e93c-4d1b-9313-80e9f4e6c171"
      },
      "outputs": [
        {
          "output_type": "stream",
          "name": "stdout",
          "text": [
            "Enter the Year:2020\n",
            "True\n"
          ]
        }
      ],
      "source": [
        "def leap_year(year):\n",
        "\n",
        "  leap=False\n",
        "  if year%400==0:\n",
        "    leap=True\n",
        "  elif year%100==0:\n",
        "    leap=False\n",
        "  elif year%4==0:\n",
        "    leap=True\n",
        "  return leap\n",
        "\n",
        "year=int(input(\"Enter the Year:\"))\n",
        "print(leap_year(year))"
      ]
    },
    {
      "cell_type": "code",
      "source": [],
      "metadata": {
        "id": "XeNYIIno6YZK"
      },
      "execution_count": null,
      "outputs": []
    }
  ]
}