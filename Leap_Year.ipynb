{
  "nbformat": 4,
  "nbformat_minor": 0,
  "metadata": {
    "colab": {
      "provenance": [],
      "authorship_tag": "ABX9TyP7SFx01zZF58YMu4IEauJx",
      "include_colab_link": true
    },
    "kernelspec": {
      "name": "python3",
      "display_name": "Python 3"
    },
    "language_info": {
      "name": "python"
    }
  },
  "cells": [
    {
      "cell_type": "markdown",
      "metadata": {
        "id": "view-in-github",
        "colab_type": "text"
      },
      "source": [
        "<a href=\"https://colab.research.google.com/github/athulya137/Python_Coding_Questions/blob/main/Leap_Year.ipynb\" target=\"_parent\"><img src=\"https://colab.research.google.com/assets/colab-badge.svg\" alt=\"Open In Colab\"/></a>"
      ]
    },
    {
      "cell_type": "code",
      "execution_count": 4,
      "metadata": {
        "colab": {
          "base_uri": "https://localhost:8080/"
        },
        "id": "A0CCvox94Z_p",
        "outputId": "6b5d4db4-e93c-4d1b-9313-80e9f4e6c171"
      },
      "outputs": [
        {
          "output_type": "stream",
          "name": "stdout",
          "text": [
            "Enter the Year:2020\n",
            "True\n"
          ]
        }
      ],
      "source": [
        "# Python program to check if year is a leap year or not\n",
"\n",
"year = 2000\n",
"\n",
"# To get year (integer input) from the user\n",
"# year = int(input("Enter a year: "))\n",
"\n",
"# divided by 100 means century year (ending with 00)\n",
"# century year divided by 400 is leap year\n",
"if (year % 400 == 0) and (year % 100 == 0):\n",
    "print("{0} is a leap year".format(year))\n",
"\n",
"# not divided by 100 means not a century year\n",
"# year divided by 4 is a leap year\n",
"elif (year % 4 ==0) and (year % 100 != 0):\n",
    "print("{0} is a leap year".format(year))\n",
"\n",
"# if not divided by both 400 (century year) and 4 (not century year)\n",
"# year is not leap year\n",
"else:\n",
    "print("{0} is not a leap year".format(year))\n",
      ]
    },
    {
      "cell_type": "code",
      "source": [],
      "metadata": {
        "id": "XeNYIIno6YZK"
      },
      "execution_count": null,
      "outputs": []
    }
  ]
}
