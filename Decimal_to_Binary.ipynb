{
  "nbformat": 4,
  "nbformat_minor": 0,
  "metadata": {
    "colab": {
      "provenance": [],
      "authorship_tag": "ABX9TyOL21j4wgSZnZUWYPDeIk2u",
      "include_colab_link": true
    },
    "kernelspec": {
      "name": "python3",
      "display_name": "Python 3"
    },
    "language_info": {
      "name": "python"
    }
  },
  "cells": [
    {
      "cell_type": "markdown",
      "metadata": {
        "id": "view-in-github",
        "colab_type": "text"
      },
      "source": [
        "<a href=\"https://colab.research.google.com/github/athulya137/Python_Coding_Questions/blob/main/Decimal_to_Binary.ipynb\" target=\"_parent\"><img src=\"https://colab.research.google.com/assets/colab-badge.svg\" alt=\"Open In Colab\"/></a>"
      ]
    },
    {
      "cell_type": "code",
      "execution_count": null,
      "metadata": {
        "id": "uJEGK1ENVlex"
      },
      "outputs": [],
      "source": [
        "# covert decimal to binary"
      ]
    },
    {
      "cell_type": "code",
      "source": [
        "def decimal_to_binary(n):\n",
        "    # Use the bin() function to get the binary representation and remove the '0b' prefix\n",
        "    binary = bin(n).replace(\"0b\", \"\")\n",
        "    return binary\n",
        "\n",
        "# Input: a decimal number\n",
        "decimal_number = int(input(\"Enter a decimal number: \"))\n",
        "\n",
        "# Conversion to binary\n",
        "binary_result = decimal_to_binary(decimal_number)\n",
        "\n",
        "# Output the result\n",
        "print(f\"Binary representation of {decimal_number} is: {binary_result}\")\n"
      ],
      "metadata": {
        "colab": {
          "base_uri": "https://localhost:8080/"
        },
        "id": "5FeqmukTXsmO",
        "outputId": "e7d134b5-38ce-4bff-aa43-d11691774abc"
      },
      "execution_count": 3,
      "outputs": [
        {
          "output_type": "stream",
          "name": "stdout",
          "text": [
            "Enter a decimal number: 5\n",
            "Binary representation of 5 is: 101\n"
          ]
        }
      ]
    },
    {
      "cell_type": "code",
      "source": [],
      "metadata": {
        "id": "srmnZ3b_XtDL"
      },
      "execution_count": null,
      "outputs": []
    }
  ]
}