{
  "nbformat": 4,
  "nbformat_minor": 0,
  "metadata": {
    "colab": {
      "provenance": [],
      "authorship_tag": "ABX9TyPwkCk3WbEUIjBIz+K6kUVb",
      "include_colab_link": true
    },
    "kernelspec": {
      "name": "python3",
      "display_name": "Python 3"
    },
    "language_info": {
      "name": "python"
    }
  },
  "cells": [
    {
      "cell_type": "markdown",
      "metadata": {
        "id": "view-in-github",
        "colab_type": "text"
      },
      "source": [
        "<a href=\"https://colab.research.google.com/github/athulya137/Python_Coding_Questions/blob/main/HCF(without_recursion).ipynb\" target=\"_parent\"><img src=\"https://colab.research.google.com/assets/colab-badge.svg\" alt=\"Open In Colab\"/></a>"
      ]
    },
    {
      "cell_type": "code",
      "execution_count": 1,
      "metadata": {
        "id": "AP2wRQIiRLwf"
      },
      "outputs": [],
      "source": [
        "#Write a program to find HCF of two numbers by without using recursion.\n",
        "# Input format:\n",
        "# The first line contains any 2 positive numbers separated by space.\n",
        "# Output format:\n",
        "# Print the HCF of given two numbers.\n",
        "# Sample Input:\n",
        "#   70 15\n",
        "\n",
        "# Sample Output:\n",
        "#   5\n"
      ]
    },
    {
      "cell_type": "code",
      "source": [
        "from binascii import b2a_base64\n",
        "def find_hcf(a,b):\n",
        "  while b !=0:\n",
        "    a,b= b, a%b\n",
        "  return a\n",
        "\n",
        "nums = input('Enter 2 numbers seperated by space:')\n",
        "a,b = map(int, nums.split())\n",
        "\n",
        "print('HCF = ',find_hcf(a,b))"
      ],
      "metadata": {
        "colab": {
          "base_uri": "https://localhost:8080/"
        },
        "id": "J5ynRo_JRazp",
        "outputId": "15f53556-bf00-4566-c08b-f7dbfca3edcf"
      },
      "execution_count": 7,
      "outputs": [
        {
          "output_type": "stream",
          "name": "stdout",
          "text": [
            "Enter 2 numbers seperated by space:15 70\n",
            "HCF =  5\n"
          ]
        }
      ]
    },
    {
      "cell_type": "code",
      "source": [],
      "metadata": {
        "id": "xcq4NPpESq2r"
      },
      "execution_count": null,
      "outputs": []
    }
  ]
}