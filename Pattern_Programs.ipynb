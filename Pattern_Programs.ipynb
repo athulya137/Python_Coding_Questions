{
  "nbformat": 4,
  "nbformat_minor": 0,
  "metadata": {
    "colab": {
      "provenance": [],
      "authorship_tag": "ABX9TyN4SW4T8O+7DfuNRQVGZ2wD",
      "include_colab_link": true
    },
    "kernelspec": {
      "name": "python3",
      "display_name": "Python 3"
    },
    "language_info": {
      "name": "python"
    }
  },
  "cells": [
    {
      "cell_type": "markdown",
      "metadata": {
        "id": "view-in-github",
        "colab_type": "text"
      },
      "source": [
        "<a href=\"https://colab.research.google.com/github/athulya137/Python_Coding_Questions/blob/main/Pattern_Programs.ipynb\" target=\"_parent\"><img src=\"https://colab.research.google.com/assets/colab-badge.svg\" alt=\"Open In Colab\"/></a>"
      ]
    },
    {
      "cell_type": "code",
      "execution_count": 2,
      "metadata": {
        "colab": {
          "base_uri": "https://localhost:8080/"
        },
        "id": "S5CcjMb5nLDK",
        "outputId": "2671342d-aeaf-4fc6-90cf-f91d9f430740"
      },
      "outputs": [
        {
          "output_type": "stream",
          "name": "stdout",
          "text": [
            "Enter the row size for the pattern: 5\n",
            "* \n",
            "* * \n",
            "* * * \n",
            "* * * * \n",
            "* * * * * \n"
          ]
        }
      ],
      "source": [
        "# Right-Angled Triangle Pattern in Python\n",
        "\n",
        "rows = int(input(\"Enter the row size for the pattern: \"))\n",
        "for i in range(1,rows+1):\n",
        "  for i in range(1,i+1):\n",
        "    print(\"*\",end=\" \")\n",
        "  print()"
      ]
    },
    {
      "cell_type": "code",
      "source": [
        "# Inverted Right-Angled Triangle in Python\n",
        "rows = int(input(\"Enter the row size for the pattern: \"))\n",
        "for i in range(rows, 0, -1):  # Outer loop for rows in reverse\n",
        "    for j in range(1, i + 1):  # Inner loop for columns\n",
        "        print(\"*\", end=\" \")   # Print star\n",
        "    print()"
      ],
      "metadata": {
        "colab": {
          "base_uri": "https://localhost:8080/"
        },
        "id": "AtWOKp8An3wH",
        "outputId": "4ca3b1d6-d4da-436c-b6ae-a31d0aeca74a"
      },
      "execution_count": 3,
      "outputs": [
        {
          "output_type": "stream",
          "name": "stdout",
          "text": [
            "Enter the row size for the pattern: 5\n",
            "* * * * * \n",
            "* * * * \n",
            "* * * \n",
            "* * \n",
            "* \n"
          ]
        }
      ]
    },
    {
      "cell_type": "code",
      "source": [
        "# Pyramid Pattern in Python\n",
        "\n",
        "rows = int(input(\"Enter the row size for the pattern: \"))\n",
        "for i in range(1, rows + 1):  # Outer loop for rows\n",
        "    for j in range(rows  - i):  # Inner loop for spaces\n",
        "        print(\" \", end=\" \")\n",
        "    for k in range(1, 2 * i):  # Inner loop for stars\n",
        "        print(\"*\", end=\" \")\n",
        "    print()"
      ],
      "metadata": {
        "colab": {
          "base_uri": "https://localhost:8080/"
        },
        "id": "-aufv5QCou1X",
        "outputId": "026aca18-7d88-48b4-90b1-740da2050ddd"
      },
      "execution_count": 4,
      "outputs": [
        {
          "output_type": "stream",
          "name": "stdout",
          "text": [
            "Enter the row size for the pattern: 5\n",
            "        * \n",
            "      * * * \n",
            "    * * * * * \n",
            "  * * * * * * * \n",
            "* * * * * * * * * \n"
          ]
        }
      ]
    },
    {
      "cell_type": "code",
      "source": [
        "#  Inverted Pyramid Pattern in Python\n",
        "\n",
        "rows = int(input(\"Enter the row size for the pattern: \"))\n",
        "for i in range(rows , 0, -1):  # Outer loop for rows in reverse\n",
        "    for j in range(rows  - i):  # Inner loop for spaces\n",
        "        print(\" \", end=\" \")\n",
        "    for k in range(1, 2 * i):  # Inner loop for stars\n",
        "        print(\"*\", end=\" \")\n",
        "    print()  # Move to the next line"
      ],
      "metadata": {
        "colab": {
          "base_uri": "https://localhost:8080/"
        },
        "id": "Ljc7B0i5p4LA",
        "outputId": "c6162786-e910-4d29-f444-beede9a61298"
      },
      "execution_count": 5,
      "outputs": [
        {
          "output_type": "stream",
          "name": "stdout",
          "text": [
            "Enter the row size for the pattern: 5\n",
            "* * * * * * * * * \n",
            "  * * * * * * * \n",
            "    * * * * * \n",
            "      * * * \n",
            "        * \n"
          ]
        }
      ]
    },
    {
      "cell_type": "code",
      "source": [
        "# Diamond Pattern in Python\n",
        "\n",
        "rows = int(input(\"Enter the row size for the pattern: \"))\n",
        "for i in range(1,rows + 1):  # Upper part of diamond\n",
        "    for j in range(rows  - i):\n",
        "        print(\" \", end=\" \")\n",
        "    for k in range(1, 2 * i):\n",
        "        print(\"*\", end=\" \")\n",
        "    print()\n",
        "for i in range(rows  - 1, 0, -1):  # Lower part of diamond\n",
        "    for j in range(rows  - i):\n",
        "        print(\" \", end=\" \")\n",
        "    for k in range(1, 2 * i):\n",
        "        print(\"*\", end=\" \")\n",
        "    print()\n",
        ""
      ],
      "metadata": {
        "colab": {
          "base_uri": "https://localhost:8080/"
        },
        "id": "Z0gNfBA1qOJC",
        "outputId": "3757e561-2b10-452c-b858-db5f0d89f11d"
      },
      "execution_count": 6,
      "outputs": [
        {
          "output_type": "stream",
          "name": "stdout",
          "text": [
            "Enter the row size for the pattern: 5\n",
            "        * \n",
            "      * * * \n",
            "    * * * * * \n",
            "  * * * * * * * \n",
            "* * * * * * * * * \n",
            "  * * * * * * * \n",
            "    * * * * * \n",
            "      * * * \n",
            "        * \n"
          ]
        }
      ]
    },
    {
      "cell_type": "code",
      "source": [
        "#  Hollow Square Pattern in Python\n",
        "\n",
        "rows = int(input(\"Enter the row size for the pattern: \"))\n",
        "for i in range(1, rows + 1):  # Outer loop for rows\n",
        "    for j in range(1, rows + 1):  # Inner loop for columns\n",
        "        if i == 1 or i == rows or j == 1 or j == rows :  # Print star only on borders\n",
        "            print(\"*\", end=\" \")\n",
        "        else:\n",
        "            print(\" \", end=\" \")  # Print space inside\n",
        "    print()"
      ],
      "metadata": {
        "colab": {
          "base_uri": "https://localhost:8080/"
        },
        "id": "aqinxaSJq3sR",
        "outputId": "81f82142-52dc-421d-9076-cc1ecad2e4b7"
      },
      "execution_count": 7,
      "outputs": [
        {
          "output_type": "stream",
          "name": "stdout",
          "text": [
            "Enter the row size for the pattern: 5\n",
            "* * * * * \n",
            "*       * \n",
            "*       * \n",
            "*       * \n",
            "* * * * * \n"
          ]
        }
      ]
    },
    {
      "cell_type": "code",
      "source": [
        "# Hollow Right-Angled Triangle Pattern in Python\n",
        "\n",
        "rows = int(input(\"Enter the row size for the pattern: \"))\n",
        "for i in range(1, rows + 1):  # Outer loop for rows\n",
        "    for j in range(1, i + 1):  # Inner loop for columns\n",
        "        if j == 1 or i == rows or i == j:  # Print star on borders\n",
        "            print(\"*\", end=\" \")\n",
        "        else:\n",
        "            print(\" \", end=\" \")  # Print space inside\n",
        "    print()\n",
        ""
      ],
      "metadata": {
        "colab": {
          "base_uri": "https://localhost:8080/"
        },
        "id": "LySh-DETq-Bm",
        "outputId": "a38e10fa-fd47-4818-f212-27b6e1f3a860"
      },
      "execution_count": 8,
      "outputs": [
        {
          "output_type": "stream",
          "name": "stdout",
          "text": [
            "Enter the row size for the pattern: 5\n",
            "* \n",
            "* * \n",
            "*   * \n",
            "*     * \n",
            "* * * * * \n"
          ]
        }
      ]
    },
    {
      "cell_type": "code",
      "source": [
        "# Hollow Inverted Right-Angled Triangle Pattern in Python\n",
        "\n",
        "rows = int(input(\"Enter the row size for the pattern:\"))\n",
        "for i in range(rows , 0, -1):  # Outer loop for rows in reverse\n",
        "    for j in range(1, i + 1):  # Inner loop for columns\n",
        "        if j == 1 or i == rows or i == j:  # Print star on borders\n",
        "            print(\"*\", end=\" \")\n",
        "        else:\n",
        "            print(\" \", end=\" \")  # Print space inside\n",
        "    print()  # Move to the next line\n",
        ""
      ],
      "metadata": {
        "colab": {
          "base_uri": "https://localhost:8080/"
        },
        "id": "rq0piBj1rz2h",
        "outputId": "d55db765-242c-489d-f314-cc5b894d2954"
      },
      "execution_count": 9,
      "outputs": [
        {
          "output_type": "stream",
          "name": "stdout",
          "text": [
            "Enter the row size for the pattern:5\n",
            "* * * * * \n",
            "*     * \n",
            "*   * \n",
            "* * \n",
            "* \n"
          ]
        }
      ]
    },
    {
      "cell_type": "code",
      "source": [
        "# Hollow Pyramid Pattern in Python\n",
        "\n",
        "rows = int(input(\"Enter the row size for the pattern: \"))\n",
        "for i in range(1, rows + 1):  # Outer loop for rows\n",
        "    for j in range(rows  - i):  # Inner loop for spaces\n",
        "        print(\" \", end=\" \")\n",
        "    for k in range(1, 2 * i):  # Inner loop for stars\n",
        "        if k == 1 or k == 2 * i - 1 or i == rows:  # Print star on borders\n",
        "            print(\"*\", end=\" \")\n",
        "        else:\n",
        "            print(\" \", end=\" \")  # Print space inside\n",
        "    print()"
      ],
      "metadata": {
        "colab": {
          "base_uri": "https://localhost:8080/"
        },
        "id": "3awCxzINsKLy",
        "outputId": "a7aa20a6-ad2b-41fa-d734-55fe4c47670e"
      },
      "execution_count": 10,
      "outputs": [
        {
          "output_type": "stream",
          "name": "stdout",
          "text": [
            "Enter the row size for the pattern: 5\n",
            "        * \n",
            "      *   * \n",
            "    *       * \n",
            "  *           * \n",
            "* * * * * * * * * \n"
          ]
        }
      ]
    },
    {
      "cell_type": "code",
      "source": [
        "#  Hollow Inverted Pyramid Pattern in Python\n",
        "\n",
        "rows = int(input(\"Enter the row size for the pattern: \"))\n",
        "for i in range(rows, 0, -1):  # Outer loop for rows in reverse\n",
        "    for j in range(rows - i):  # Inner loop for spaces\n",
        "        print(\" \", end=\" \")\n",
        "    for k in range(1, 2 * i):  # Inner loop for stars\n",
        "        if k == 1 or k == 2 * i - 1 or i == rows:  # Print star on borders\n",
        "            print(\"*\", end=\" \")\n",
        "        else:\n",
        "            print(\" \", end=\" \")  # Print space inside\n",
        "    print()\n",
        ""
      ],
      "metadata": {
        "colab": {
          "base_uri": "https://localhost:8080/"
        },
        "id": "xC6GTJxXsRFg",
        "outputId": "7226beaa-36ed-46e7-862b-ab00cff4b176"
      },
      "execution_count": 11,
      "outputs": [
        {
          "output_type": "stream",
          "name": "stdout",
          "text": [
            "Enter the row size for the pattern: 5\n",
            "* * * * * * * * * \n",
            "  *           * \n",
            "    *       * \n",
            "      *   * \n",
            "        * \n"
          ]
        }
      ]
    },
    {
      "cell_type": "code",
      "source": [
        "# Number Right-Angled Triangle Pattern in Python\n",
        "\n",
        "rows = int(input(\"Enter the row size for the pattern:\"))\n",
        "for i in range(1, rows + 1):  # Outer loop for rows\n",
        "    for j in range(1, i + 1):  # Inner loop for columns\n",
        "        print(j, end=\" \")  # Print numbers\n",
        "    print()\n",
        ""
      ],
      "metadata": {
        "colab": {
          "base_uri": "https://localhost:8080/"
        },
        "id": "lL70qDVdssl4",
        "outputId": "cfe9b4c8-f825-47c9-c17b-93d1bd55e208"
      },
      "execution_count": 12,
      "outputs": [
        {
          "output_type": "stream",
          "name": "stdout",
          "text": [
            "Enter the row size for the pattern:5\n",
            "1 \n",
            "1 2 \n",
            "1 2 3 \n",
            "1 2 3 4 \n",
            "1 2 3 4 5 \n"
          ]
        }
      ]
    },
    {
      "cell_type": "code",
      "source": [
        "rows = int(input(\"Enter the row size for the pattern: \"))\n",
        "for i in range(rows, 0, -1):  # Outer loop for rows in reverse\n",
        "    for j in range(1, i + 1):  # Inner loop for columns\n",
        "        print(j, end=\" \")  # Print numbers\n",
        "    print()"
      ],
      "metadata": {
        "colab": {
          "base_uri": "https://localhost:8080/"
        },
        "id": "No8kntXSs_Bz",
        "outputId": "2f5e5984-2036-420b-cb8a-bbbd1c788888"
      },
      "execution_count": 14,
      "outputs": [
        {
          "output_type": "stream",
          "name": "stdout",
          "text": [
            "Enter the row size for the pattern: 5\n",
            "1 2 3 4 5 \n",
            "1 2 3 4 \n",
            "1 2 3 \n",
            "1 2 \n",
            "1 \n"
          ]
        }
      ]
    },
    {
      "cell_type": "code",
      "source": [
        "#  Number Pyramid Pattern in Python\n",
        "\n",
        "rows = int(input(\"Enter the row size for the pattern: \"))\n",
        "for i in range(1, rows + 1):  # Outer loop for rows\n",
        "    for j in range(rows  - i):  # Inner loop for spaces\n",
        "        print(\" \", end=\" \")\n",
        "    for k in range(1, i + 1):  # Inner loop for numbers\n",
        "        print(k, end=\" \")\n",
        "    for l in range(i - 1, 0, -1):  # Inner loop for reverse numbers\n",
        "        print(l, end=\" \")\n",
        "    print()"
      ],
      "metadata": {
        "colab": {
          "base_uri": "https://localhost:8080/"
        },
        "id": "3PnPhbPrtDEd",
        "outputId": "1c0e7330-8771-4504-8487-6c2ec75f8977"
      },
      "execution_count": 15,
      "outputs": [
        {
          "output_type": "stream",
          "name": "stdout",
          "text": [
            "Enter the row size for the pattern: 5\n",
            "        1 \n",
            "      1 2 1 \n",
            "    1 2 3 2 1 \n",
            "  1 2 3 4 3 2 1 \n",
            "1 2 3 4 5 4 3 2 1 \n"
          ]
        }
      ]
    },
    {
      "cell_type": "code",
      "source": [
        "# Alphabet Right-Angled Triangle Pattern in Python\n",
        "\n",
        "rows = int(input(\"Enter the row size for the pattern: \"))\n",
        "for i in range(1, rows + 1):  # Outer loop for rows\n",
        "    for j in range(1, i + 1):  # Inner loop for columns\n",
        "        print(chr(64 + j), end=\" \")  # Print alphabets\n",
        "    print()"
      ],
      "metadata": {
        "colab": {
          "base_uri": "https://localhost:8080/"
        },
        "id": "e1d-X5WytLvF",
        "outputId": "d3a6a832-0063-4ad3-9ff1-b1ca9bf45985"
      },
      "execution_count": 16,
      "outputs": [
        {
          "output_type": "stream",
          "name": "stdout",
          "text": [
            "Enter the row size for the pattern: 5\n",
            "A \n",
            "A B \n",
            "A B C \n",
            "A B C D \n",
            "A B C D E \n"
          ]
        }
      ]
    },
    {
      "cell_type": "code",
      "source": [
        "rows = int(input(\"Enter the row size for the pattern: \"))\n",
        "for i in range(1, rows + 1):  # Outer loop for rows\n",
        "    for j in range(rows - i):  # Inner loop for spaces\n",
        "        print(\" \", end=\" \")\n",
        "    for k in range(1, i + 1):  # Inner loop for alphabets\n",
        "        print(chr(64 + k), end=\" \")\n",
        "    for l in range(i - 1, 0, -1):  # Inner loop for reverse alphabets\n",
        "        print(chr(64 + l), end=\" \")\n",
        "    print()"
      ],
      "metadata": {
        "colab": {
          "base_uri": "https://localhost:8080/"
        },
        "id": "9D21hlV-t-l6",
        "outputId": "dd3d6370-c2a3-4d84-aaea-e608f64017fb"
      },
      "execution_count": 17,
      "outputs": [
        {
          "output_type": "stream",
          "name": "stdout",
          "text": [
            "Enter the row size for the pattern: 5\n",
            "        A \n",
            "      A B A \n",
            "    A B C B A \n",
            "  A B C D C B A \n",
            "A B C D E D C B A \n"
          ]
        }
      ]
    },
    {
      "cell_type": "code",
      "source": [
        "#  Floyd's Triangle Pattern in Python\n",
        "\n",
        "rows = int(input(\"Enter the row size for the pattern: \"))\n",
        "num = 1\n",
        "for i in range(1, rows + 1):  # Outer loop for rows\n",
        "    for j in range(1, i + 1):  # Inner loop for columns\n",
        "        print(num, end=\" \")  # Print numbers in sequence\n",
        "        num += 1\n",
        "    print()"
      ],
      "metadata": {
        "colab": {
          "base_uri": "https://localhost:8080/"
        },
        "id": "B5fXGMW1uNj0",
        "outputId": "1381caee-d77e-4bb1-e6bc-fd973fa093d4"
      },
      "execution_count": 18,
      "outputs": [
        {
          "output_type": "stream",
          "name": "stdout",
          "text": [
            "Enter the row size for the pattern: 5\n",
            "1 \n",
            "2 3 \n",
            "4 5 6 \n",
            "7 8 9 10 \n",
            "11 12 13 14 15 \n"
          ]
        }
      ]
    },
    {
      "cell_type": "code",
      "source": [
        "# Plus Pattern in Python\n",
        "\n",
        "rows = int(input(\"Enter the row size for the pattern: \"))\n",
        "for i in range(1, rows + 1):  # Outer loop for rows\n",
        "    for j in range(1, rows  + 1):  # Inner loop for columns\n",
        "        if i == rows  // 2 + 1 or j == rows  // 2 + 1:  # Print stars in plus pattern\n",
        "            print(\"*\", end=\" \")\n",
        "        else:\n",
        "            print(\" \", end=\" \")  # Print space\n",
        "    print()"
      ],
      "metadata": {
        "colab": {
          "base_uri": "https://localhost:8080/"
        },
        "id": "T6-PpqYCuUqf",
        "outputId": "acf39a02-7dab-46f2-b1c6-eea0c9f94363"
      },
      "execution_count": 19,
      "outputs": [
        {
          "output_type": "stream",
          "name": "stdout",
          "text": [
            "Enter the row size for the pattern: 5\n",
            "    *     \n",
            "    *     \n",
            "* * * * * \n",
            "    *     \n",
            "    *     \n"
          ]
        }
      ]
    },
    {
      "cell_type": "code",
      "source": [],
      "metadata": {
        "id": "wZ176FmnvEhV"
      },
      "execution_count": null,
      "outputs": []
    }
  ]
}