{
  "nbformat": 4,
  "nbformat_minor": 0,
  "metadata": {
    "colab": {
      "provenance": [],
      "authorship_tag": "ABX9TyPtxYHqgchDQGVTTQRJqLT6",
      "include_colab_link": true
    },
    "kernelspec": {
      "name": "python3",
      "display_name": "Python 3"
    },
    "language_info": {
      "name": "python"
    }
  },
  "cells": [
    {
      "cell_type": "markdown",
      "metadata": {
        "id": "view-in-github",
        "colab_type": "text"
      },
      "source": [
        "<a href=\"https://colab.research.google.com/github/athulya137/Python_Coding_Questions/blob/main/Untitled12.ipynb\" target=\"_parent\"><img src=\"https://colab.research.google.com/assets/colab-badge.svg\" alt=\"Open In Colab\"/></a>"
      ]
    },
    {
      "cell_type": "code",
      "execution_count": 1,
      "metadata": {
        "id": "tPQxOwvnJvhQ"
      },
      "outputs": [],
      "source": [
        "#For two strings s and t, we say \"t divides s\" if and only if s = t + t + t + ... + t + t (i.e., t is concatenated with itself one or more times).\n",
        "#Given two strings str1 and str2, return the largest string x such that x divides both str1 and str2.\n",
        "#Example 1:\n",
        "#Input: str1 = \"ABCABC\", str2 = \"ABC\"\n",
        "#Output: \"ABC\"\n",
        "#Example 2:\n",
        "#Input: str1 = \"ABABAB\", str2 = \"ABAB\"\n",
        "#Output: \"AB\"\n",
        "#Example 3:\n",
        "#Input: str1 = \"LEET\", str2 = \"CODE\"\n",
        "#Output: \"\"\n",
        "#Constraints:\n",
        "#1 <= str1.length, str2.length <= 1000\n",
        "#str1 and str2 consist of English uppercase letters."
      ]
    },
    {
      "cell_type": "code",
      "source": [
        "class Solution:\n",
        "    def gcdOfStrings(self, str1: str, str2: str) -> str:\n",
        "        def gcd(a,b):\n",
        "            while b:\n",
        "                a,b=b,a%b\n",
        "            return a\n",
        "        if str1+str2 != str2+str1:\n",
        "            return \"\"\n",
        "        gcd_length=gcd(len(str1),len(str2))\n",
        "        return str1[:gcd_length]\n",
        "\n",
        "\n",
        "solution=Solution()\n",
        "# Example\n",
        "str1 = \"ABCABC\"\n",
        "str2 = \"ABC\"\n",
        "print(solution.gcdOfStrings(str1, str2))\n",
        "\n",
        "str1 = \"ABABAB\"\n",
        "str2 = \"ABAB\"\n",
        "print(solution.gcdOfStrings(str1, str2))\n",
        "\n",
        "\n",
        ""
      ],
      "metadata": {
        "colab": {
          "base_uri": "https://localhost:8080/"
        },
        "id": "c_jzq5eXJx_q",
        "outputId": "30b32ea5-fa4f-4eaa-f002-6c6d7356a260"
      },
      "execution_count": 9,
      "outputs": [
        {
          "output_type": "stream",
          "name": "stdout",
          "text": [
            "ABC\n",
            "AB\n"
          ]
        }
      ]
    },
    {
      "cell_type": "code",
      "source": [],
      "metadata": {
        "id": "VHo7y_Q9KXDe"
      },
      "execution_count": null,
      "outputs": []
    }
  ]
}