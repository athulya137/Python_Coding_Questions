{
  "nbformat": 4,
  "nbformat_minor": 0,
  "metadata": {
    "colab": {
      "provenance": [],
      "authorship_tag": "ABX9TyPQPoQ4FHXZtmEurX5jOWHD",
      "include_colab_link": true
    },
    "kernelspec": {
      "name": "python3",
      "display_name": "Python 3"
    },
    "language_info": {
      "name": "python"
    }
  },
  "cells": [
    {
      "cell_type": "markdown",
      "metadata": {
        "id": "view-in-github",
        "colab_type": "text"
      },
      "source": [
        "<a href=\"https://colab.research.google.com/github/athulya137/Python_Coding_Questions/blob/main/Matching_Element.ipynb\" target=\"_parent\"><img src=\"https://colab.research.google.com/assets/colab-badge.svg\" alt=\"Open In Colab\"/></a>"
      ]
    },
    {
      "cell_type": "code",
      "execution_count": 1,
      "metadata": {
        "id": "KdkI5f2uxdMu"
      },
      "outputs": [],
      "source": [
        "# get the matching elements in an integer array in python"
      ]
    },
    {
      "cell_type": "code",
      "source": [
        "a=[1,23,5,44,5,34,1,5,44,39]\n",
        "for i in range(len(a)):\n",
        "  for j in range(i+1,len(a)):\n",
        "    if a[i]==a[j]:\n",
        "      print(a[i],end=',')"
      ],
      "metadata": {
        "colab": {
          "base_uri": "https://localhost:8080/"
        },
        "id": "muUCUvb3xomY",
        "outputId": "15739f12-2c20-4c23-d964-327f2dfc9bd1"
      },
      "execution_count": 5,
      "outputs": [
        {
          "output_type": "stream",
          "name": "stdout",
          "text": [
            "1,5,5,44,5,"
          ]
        }
      ]
    },
    {
      "cell_type": "code",
      "source": [
        "# without duplicates"
      ],
      "metadata": {
        "id": "ckTLGaOayF5e"
      },
      "execution_count": 6,
      "outputs": []
    },
    {
      "cell_type": "code",
      "source": [
        "a=[1,23,5,44,5,34,1,5,44,39]\n",
        "duplicates=set()\n",
        "for i in range(len(a)):\n",
        "  for j in range(i+1,len(a)):\n",
        "    if a[i]==a[j]:\n",
        "      duplicates.add(a[i])\n",
        "print(list(duplicates))\n",
        ""
      ],
      "metadata": {
        "colab": {
          "base_uri": "https://localhost:8080/"
        },
        "id": "8Peg0BAByU3T",
        "outputId": "89294c1b-a63a-4ea9-8530-9e82a0120093"
      },
      "execution_count": 7,
      "outputs": [
        {
          "output_type": "stream",
          "name": "stdout",
          "text": [
            "[1, 44, 5]\n"
          ]
        }
      ]
    },
    {
      "cell_type": "code",
      "source": [
        "\n"
      ],
      "metadata": {
        "id": "IUtQEfILylwW"
      },
      "execution_count": null,
      "outputs": []
    }
  ]
}